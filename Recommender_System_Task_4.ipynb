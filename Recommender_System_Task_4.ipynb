{
  "nbformat": 4,
  "nbformat_minor": 0,
  "metadata": {
    "colab": {
      "provenance": []
    },
    "kernelspec": {
      "name": "python3",
      "display_name": "Python 3"
    },
    "language_info": {
      "name": "python"
    }
  },
  "cells": [
    {
      "cell_type": "markdown",
      "source": [
        "### **Encryptix - Hafiza Aunsa AD - Task 4 (Recommender System)**"
      ],
      "metadata": {
        "id": "DnodRFu7KLah"
      }
    },
    {
      "cell_type": "code",
      "execution_count": null,
      "metadata": {
        "colab": {
          "base_uri": "https://localhost:8080/"
        },
        "id": "f_kXsbGhgX8W",
        "outputId": "0625d53c-88ef-49fc-8bcd-d5488a0be4c3"
      },
      "outputs": [
        {
          "output_type": "stream",
          "name": "stdout",
          "text": [
            "Enter your username (Alice, Bob, Carol): Alice\n",
            "\n",
            "Recommended movies for Alice:\n",
            "- Arrival\n"
          ]
        }
      ],
      "source": [
        "import pandas as pd\n",
        "from sklearn.metrics.pairwise import cosine_similarity\n",
        "\n",
        "# --- Sample user-movie ratings ---\n",
        "data = {\n",
        "    'user': ['Alice', 'Alice', 'Alice', 'Bob', 'Bob', 'Bob', 'Carol', 'Carol', 'Carol'],\n",
        "    'movie': ['The Matrix', 'Inception', 'Interstellar',\n",
        "              'The Matrix', 'The Dark Knight', 'Memento',\n",
        "              'Inception', 'Interstellar', 'Arrival'],\n",
        "    'rating': [5, 4, 5, 5, 4, 3, 4, 5, 4]\n",
        "}\n",
        "\n",
        "ratings_df = pd.DataFrame(data)\n",
        "\n",
        "# --- Create user-item matrix ---\n",
        "user_item_matrix = ratings_df.pivot_table(index='user', columns='movie', values='rating').fillna(0)\n",
        "\n",
        "# --- Compute user-user similarity ---\n",
        "user_similarity = cosine_similarity(user_item_matrix)\n",
        "user_sim_df = pd.DataFrame(user_similarity, index=user_item_matrix.index, columns=user_item_matrix.index)\n",
        "\n",
        "# --- Recommendation function ---\n",
        "def recommend_collab(user, num_recommendations=3):\n",
        "    if user not in user_item_matrix.index:\n",
        "        print(\"User not found in the system.\")\n",
        "        return []\n",
        "\n",
        "    similar_users = user_sim_df[user].sort_values(ascending=False).drop(user)\n",
        "    top_user = similar_users.index[0]  # most similar user\n",
        "\n",
        "    # Movies rated by top similar user but not yet by target user\n",
        "    target_user_movies = set(ratings_df[ratings_df['user'] == user]['movie'])\n",
        "    similar_user_movies = ratings_df[(ratings_df['user'] == top_user) &\n",
        "                                     (~ratings_df['movie'].isin(target_user_movies))]\n",
        "\n",
        "    recommendations = similar_user_movies.sort_values(by='rating', ascending=False)['movie'].unique()\n",
        "    return recommendations[:num_recommendations]\n",
        "\n",
        "# --- Example usage ---\n",
        "if __name__ == \"__main__\":\n",
        "    user_input = input(\"Enter your username (Alice, Bob, Carol): \")\n",
        "    recs = recommend_collab(user_input)\n",
        "    if len(recs) > 0:\n",
        "        print(f\"\\nRecommended movies for {user_input}:\")\n",
        "        for rec in recs:\n",
        "            print(\"- \" + rec)\n",
        "    else:\n",
        "        print(\"No new recommendations found.\")"
      ]
    }
  ]
}