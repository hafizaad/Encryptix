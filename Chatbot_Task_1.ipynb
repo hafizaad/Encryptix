{
  "nbformat": 4,
  "nbformat_minor": 0,
  "metadata": {
    "colab": {
      "provenance": []
    },
    "kernelspec": {
      "name": "python3",
      "display_name": "Python 3"
    },
    "language_info": {
      "name": "python"
    }
  },
  "cells": [
    {
      "cell_type": "markdown",
      "source": [
        "### **Encryptix - Hafiza Aunsa AD - Task 1 (Chatbot Rule-based Responses)**"
      ],
      "metadata": {
        "id": "F4tSXzNcH_Rk"
      }
    },
    {
      "cell_type": "code",
      "source": [],
      "metadata": {
        "id": "-BlNHzKxIxzU"
      },
      "execution_count": null,
      "outputs": []
    },
    {
      "cell_type": "code",
      "execution_count": null,
      "metadata": {
        "collapsed": true,
        "id": "duI577w2cO1r"
      },
      "outputs": [],
      "source": [
        "import re\n",
        "\n",
        "def chatbot_response(user_input):\n",
        "    user_input = user_input.lower().strip()\n",
        "\n",
        "    # Simple pattern-based rule matching\n",
        "    if re.search(r\"\\bhello\\b|\\bhi\\b|\\bhey\\b\", user_input):\n",
        "        return \"Hello! How can I assist you today?\"\n",
        "\n",
        "    elif re.search(r\"\\bhow are you\\b\", user_input):\n",
        "        return \"I'm just a bot, but I'm doing great! How about you?\"\n",
        "\n",
        "    elif re.search(r\"\\b(what.*your name)\\b\", user_input):\n",
        "        return \"I'm a simple rule-based chatbot. You can call me ChatBot!\"\n",
        "\n",
        "    elif re.search(r\"\\b(help|assist|support)\\b\", user_input):\n",
        "        return \"Sure, I'm here to help. Please tell me your issue.\"\n",
        "\n",
        "    elif re.search(r\"\\b(thank you|thanks)\\b\", user_input):\n",
        "        return \"You're welcome! 😊\"\n",
        "\n",
        "    elif re.search(r\"\\bbye\\b|\\bgoodbye\\b\", user_input):\n",
        "        return \"Goodbye! Have a great day!\"\n",
        "\n",
        "    else:\n",
        "        return \"Sorry, I didn't understand that. Can you rephrase?\"\n",
        "\n",
        "# --- Run the chatbot in a loop ---\n",
        "def start_chat():\n",
        "    print(\"ChatBot: Hello! I'm here to chat with you. Type 'bye' to exit.\\n\")\n",
        "    while True:\n",
        "        user_input = input(\"You: \")\n",
        "        response = chatbot_response(user_input)\n",
        "        print(\"ChatBot:\", response)\n",
        "        if \"bye\" in user_input.lower():\n",
        "            break\n",
        "\n",
        "# Start the chat\n",
        "if __name__ == \"__main__\":\n",
        "    start_chat()"
      ]
    }
  ]
}